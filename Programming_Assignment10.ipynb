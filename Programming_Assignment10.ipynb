{
 "cells": [
  {
   "cell_type": "code",
   "execution_count": 4,
   "id": "108d43ba",
   "metadata": {},
   "outputs": [
    {
     "name": "stdout",
     "output_type": "stream",
     "text": [
      "Enter list elements : 6 7 8 1 2 9 4\n",
      "List is :  [6, 7, 8, 1, 2, 9, 4]\n",
      "Sum of list elements are :  37\n"
     ]
    }
   ],
   "source": [
    "#1. Write a Python program to find sum of elements in list?\n",
    "\n",
    "def sum_of_list(li):\n",
    "    s=0\n",
    "    for i in li:\n",
    "        s = s+i\n",
    "        \n",
    "    return s\n",
    "\n",
    "li = [int(i) for i in input(\"Enter list elements : \").split()]\n",
    "\n",
    "    \n",
    "\n",
    "print(\"List is : \", li)\n",
    "print(\"Sum of list elements are : \",sum_of_list(li))\n",
    "    \n"
   ]
  },
  {
   "cell_type": "code",
   "execution_count": 6,
   "id": "f589bc1b",
   "metadata": {},
   "outputs": [
    {
     "name": "stdout",
     "output_type": "stream",
     "text": [
      "Enter list elements : 6 7 8 1 2 3\n",
      "List is :  [6, 7, 8, 1, 2, 3]\n",
      "Multiply of list elements is :  2016\n"
     ]
    }
   ],
   "source": [
    "#2. Write a Python program to Multiply all numbers in the list?\n",
    "\n",
    "\n",
    "def product_of_list(li):\n",
    "    mul = 1\n",
    "    for i in li:\n",
    "        mul = mul*i\n",
    "    \n",
    "    return mul\n",
    "\n",
    "\n",
    "li = [int(i) for i in input(\"Enter list elements : \").split()]\n",
    "    \n",
    "print(\"List is : \", li)\n",
    "print(\"Multiply of list elements is : \",product_of_list(li))\n",
    "    "
   ]
  },
  {
   "cell_type": "code",
   "execution_count": 7,
   "id": "7bd0451f",
   "metadata": {},
   "outputs": [
    {
     "name": "stdout",
     "output_type": "stream",
     "text": [
      "Enter list elements : 5 6 2 8 9 1 \n",
      "List is :  [5, 6, 2, 8, 9, 1]\n",
      "Smallest number in list :  1\n"
     ]
    }
   ],
   "source": [
    "#3. Write a Python program to find smallest number in a list?\n",
    "\n",
    "\n",
    "li = [int(i) for i in input(\"Enter list elements : \").split()]\n",
    "print(\"List is : \",li)\n",
    "print(\"Smallest number in list : \", min(li))"
   ]
  },
  {
   "cell_type": "code",
   "execution_count": 9,
   "id": "46bd094f",
   "metadata": {},
   "outputs": [
    {
     "name": "stdout",
     "output_type": "stream",
     "text": [
      "Enter elements of list1 2 9 7 89 12 34\n",
      "List is :  [1, 2, 9, 7, 89, 12, 34]\n",
      "Largest number in list :  89\n"
     ]
    }
   ],
   "source": [
    "#4. Write a Python program to find largest number in a list?\n",
    "\n",
    "li = [int(i) for i in input(\"Enter elements of list\").split()]  \n",
    "print(\"List is : \",li)\n",
    "print(\"Largest number in list : \", max(li))"
   ]
  },
  {
   "cell_type": "code",
   "execution_count": 10,
   "id": "50097706",
   "metadata": {},
   "outputs": [
    {
     "name": "stdout",
     "output_type": "stream",
     "text": [
      "Enter list elements : 6 7 2 1 9 8 \n",
      "List is :  [6, 7, 2, 1, 9, 8]\n",
      "Second largest number is :  8\n"
     ]
    }
   ],
   "source": [
    "#5. Write a Python program to find second largest number in a list?\n",
    "\n",
    "\n",
    "li = [int(i) for i in input(\"Enter list elements : \").split()] \n",
    "print(\"List is : \",li)\n",
    "li.sort()\n",
    "print(\"Second largest number is : \", li[-2])\n"
   ]
  },
  {
   "cell_type": "code",
   "execution_count": null,
   "id": "08171a95",
   "metadata": {},
   "outputs": [],
   "source": [
    "#6. Write a Python program to find N largest elements from a list?\n",
    "\n",
    "\n",
    "li = [int(i) for i in input(\"Enter elements of list\").split()]     \n",
    "print(\"List is : \",li)\n",
    "li.sort()\n",
    "n_large = int(input(\"How many large elements do you want? : \"))\n"
   ]
  },
  {
   "cell_type": "code",
   "execution_count": 11,
   "id": "53047817",
   "metadata": {},
   "outputs": [
    {
     "name": "stdout",
     "output_type": "stream",
     "text": [
      "Enter elements of list6 7 8 1 2 4 5 6 7 8 9\n",
      "List is :  [6, 7, 8, 1, 2, 4, 5, 6, 7, 8, 9]\n",
      "Even numbers in list are :  [6, 8, 2, 4, 6, 8]\n"
     ]
    }
   ],
   "source": [
    "#7. Write a Python program to print even numbers in a list?\n",
    "\n",
    "def list_even(li):\n",
    "    even  = []\n",
    "    for i in li:\n",
    "        if i%2==0:\n",
    "            even.append(i)\n",
    "    return even\n",
    "\n",
    "\n",
    "li = [int(i) for i in input(\"Enter elements of list\").split()]  \n",
    "    \n",
    "print(\"List is : \",li)\n",
    "print(\"Even numbers in list are : \",list_even(li))"
   ]
  },
  {
   "cell_type": "code",
   "execution_count": 12,
   "id": "d1987fce",
   "metadata": {},
   "outputs": [
    {
     "name": "stdout",
     "output_type": "stream",
     "text": [
      "Enter list elements : 6 7 1 2 0 8 9 5 6 7\n",
      "List is :  [6, 7, 1, 2, 0, 8, 9, 5, 6, 7]\n",
      "Even numbers in list are :  [7, 1, 9, 5, 7]\n"
     ]
    }
   ],
   "source": [
    "#8. Write a Python program to print odd numbers in a List?\n",
    "\n",
    "def list_odd(li):\n",
    "    even  = []\n",
    "    for i in li:\n",
    "        if i%2!=0:\n",
    "            even.append(i)\n",
    "    return even\n",
    "\n",
    "\n",
    "li = [int(i) for i in input(\"Enter list elements : \").split()]\n",
    "print(\"List is : \",li)\n",
    "print(\"Even numbers in list are : \",list_odd(li))"
   ]
  },
  {
   "cell_type": "code",
   "execution_count": 1,
   "id": "98644336",
   "metadata": {},
   "outputs": [
    {
     "name": "stdout",
     "output_type": "stream",
     "text": [
      "List is :  [8, 9, [], [], 89, 67, 12]\n",
      "List after removing empty lists :  [8, 9, 89, 67, 12]\n"
     ]
    }
   ],
   "source": [
    "#9. Write a Python program to Remove empty List from List?\n",
    "\n",
    "def remove_empty(li):\n",
    "    empty = li.count([])\n",
    "    for i in range(empty):\n",
    "        li.remove([])\n",
    "    \n",
    "    return li\n",
    "        \n",
    "\n",
    "    \n",
    "li = [8,9,[],[],89,67,12]\n",
    "print('List is : ', li)\n",
    "print(\"List after removing empty lists : \" , remove_empty(li))\n",
    "    "
   ]
  },
  {
   "cell_type": "code",
   "execution_count": 18,
   "id": "357cce48",
   "metadata": {},
   "outputs": [
    {
     "name": "stdout",
     "output_type": "stream",
     "text": [
      "Enter list elements4 5 6 7 9 9 1 2 3 4\n",
      "Original list :  [4, 5, 6, 7, 9, 9, 1, 2, 3, 4]\n",
      "Copied list :  [4, 5, 6, 7, 9, 9, 1, 2, 3, 4]\n"
     ]
    }
   ],
   "source": [
    "#10. Write a Python program to Cloning or Copying a list?\n",
    "\n",
    "\n",
    "li1= [int(i) for i in input('Enter list elements').split()]\n",
    "\n",
    "li2 = li1[:]\n",
    "\n",
    "print(\"Original list : \",li1)\n",
    "print(\"Copied list : \", li2)"
   ]
  },
  {
   "cell_type": "code",
   "execution_count": 20,
   "id": "ac094b19",
   "metadata": {},
   "outputs": [
    {
     "name": "stdout",
     "output_type": "stream",
     "text": [
      "Enter list elements : 5 6 1 6 3 4 6 7 1 6 \n",
      "Enter the number you want to count : 6\n",
      "List is :  [5, 6, 1, 6, 3, 4, 6, 7, 1, 6]\n",
      "The count is :  4\n"
     ]
    }
   ],
   "source": [
    "#11. Write a Python program to Count occurrences of an element in a list?\n",
    "\n",
    "li = [int(i) for i in input(\"Enter list elements : \").split()]\n",
    "ele = int(input(\"Enter the number you want to count : \"))\n",
    "print(\"List is : \",li)\n",
    "print(\"The count is : \",li.count(ele))\n"
   ]
  }
 ],
 "metadata": {
  "kernelspec": {
   "display_name": "Python 3 (ipykernel)",
   "language": "python",
   "name": "python3"
  },
  "language_info": {
   "codemirror_mode": {
    "name": "ipython",
    "version": 3
   },
   "file_extension": ".py",
   "mimetype": "text/x-python",
   "name": "python",
   "nbconvert_exporter": "python",
   "pygments_lexer": "ipython3",
   "version": "3.9.7"
  }
 },
 "nbformat": 4,
 "nbformat_minor": 5
}
