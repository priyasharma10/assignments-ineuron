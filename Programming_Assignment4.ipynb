{
 "cells": [
  {
   "cell_type": "code",
   "execution_count": 2,
   "id": "bc562755",
   "metadata": {},
   "outputs": [
    {
     "name": "stdout",
     "output_type": "stream",
     "text": [
      "Enter the number : 6\n",
      "The facotrial of the number will be :  720\n"
     ]
    }
   ],
   "source": [
    "#1. Write a Python Program to Find the Factorial of a Number?\n",
    "\n",
    "def factorial(n):\n",
    "    fact = 1\n",
    "    for i in range(1,n+1):\n",
    "        fact = fact*i\n",
    "    return fact\n",
    " \n",
    "    \n",
    "num = int(input(\"Enter the number : \"))\n",
    "print(\"The facotrial of the number will be : \", factorial(num))\n"
   ]
  },
  {
   "cell_type": "code",
   "execution_count": 6,
   "id": "02267ade",
   "metadata": {},
   "outputs": [
    {
     "name": "stdout",
     "output_type": "stream",
     "text": [
      "Enter the number whose table you want : 6\n",
      "6\n",
      "12\n",
      "18\n",
      "24\n",
      "30\n",
      "36\n",
      "42\n",
      "48\n",
      "54\n",
      "60\n",
      "None\n"
     ]
    }
   ],
   "source": [
    "#2. Write a Python Program to Display the multiplication Table?\n",
    "\n",
    "def mul_table(n):\n",
    "    for i in range(10):\n",
    "        print(n*(i+1))\n",
    "        \n",
    "n = int(input(\"Enter the number whose table you want : \"))        \n",
    "print(mul_table(n))"
   ]
  },
  {
   "cell_type": "code",
   "execution_count": 19,
   "id": "ade58082",
   "metadata": {},
   "outputs": [
    {
     "name": "stdout",
     "output_type": "stream",
     "text": [
      "Enter the number upto which length you want fibonacci series : 10\n",
      "The fibonacci series will be :  [0, 1, 1, 2, 3, 5, 8, 13, 21, 34]\n"
     ]
    }
   ],
   "source": [
    "#3. Write a Python Program to Print the Fibonacci sequence?\n",
    "#0, 1, 1, 2, 3, 5, 8, 13, 21, 34....\n",
    "\n",
    "def fibonacci(n):\n",
    "    a=0\n",
    "    b=1\n",
    "    l = [0,1]\n",
    "    for i in range(n-2):\n",
    "        c = a+b\n",
    "        a = b\n",
    "        b = c\n",
    "        l.append(c)\n",
    "    return l\n",
    "        \n",
    "\n",
    "   \n",
    "n = int(input(\"Enter the number upto which length you want fibonacci series : \"))\n",
    "print(\"The fibonacci series will be : \" , fibonacci(n))\n"
   ]
  },
  {
   "cell_type": "code",
   "execution_count": 29,
   "id": "3f4fa7f4",
   "metadata": {},
   "outputs": [
    {
     "name": "stdout",
     "output_type": "stream",
     "text": [
      "Enter the number : 153\n"
     ]
    },
    {
     "data": {
      "text/plain": [
       "'Number is armstrong'"
      ]
     },
     "execution_count": 29,
     "metadata": {},
     "output_type": "execute_result"
    }
   ],
   "source": [
    "#4. Write a Python Program to Check Armstrong Number?\n",
    "#For example, 371 is an Armstrong number since 3**3 + 7**3 + 1**3 = 371.\n",
    "\n",
    "def armstrong(n):\n",
    "    s = 0 \n",
    "    a=n\n",
    "    for i in range(len(str(n))):\n",
    "        s = s+(a%10)**3\n",
    "        a=int(a/10)\n",
    "\n",
    "        \n",
    "        \n",
    "        \n",
    "    if s==n:\n",
    "        return \"Number is armstrong\"\n",
    "    else:\n",
    "        return \"Number is not armstrong\"\n",
    "        \n",
    "\n",
    "num = int(input(\"Enter the number : \"))\n",
    "armstrong(num)\n",
    "        "
   ]
  },
  {
   "cell_type": "code",
   "execution_count": 2,
   "id": "cd9abf35",
   "metadata": {},
   "outputs": [
    {
     "name": "stdout",
     "output_type": "stream",
     "text": [
      "Enter intial Range : 1\n",
      "Enter final Range : 1000\n",
      "The armstrong number in between range are [1, 153, 370, 371, 407]\n"
     ]
    }
   ],
   "source": [
    "#5. Write a Python Program to Find Armstrong Number in an Interval?\n",
    "\n",
    "def find_armstrong(a,b):\n",
    "    armstrong = []\n",
    "    for i in range(a,b):\n",
    "        n=i\n",
    "        s=0\n",
    "        for j in range(len(str(i))):\n",
    "            s = s+(i%10)**3\n",
    "            i = int(i/10)\n",
    "            \n",
    "        if s==n:\n",
    "            armstrong.append(n)\n",
    "    return armstrong\n",
    "        \n",
    "            \n",
    "\n",
    "\n",
    "\n",
    "num1 = int(input(\"Enter intial Range : \"))\n",
    "num2 = int(input(\"Enter final Range : \"))   \n",
    "print('The armstrong number in between range are', find_armstrong(num1,num2))"
   ]
  },
  {
   "cell_type": "code",
   "execution_count": 31,
   "id": "d03f5495",
   "metadata": {},
   "outputs": [
    {
     "name": "stdout",
     "output_type": "stream",
     "text": [
      "Enter the number upto which you find sum : 10\n",
      "The sum is 55\n"
     ]
    }
   ],
   "source": [
    "#6. Write a Python Program to Find the Sum of Natural Numbers?\n",
    "\n",
    "def natural_sum(n):\n",
    "    s = 0\n",
    "    for i in range(1,n+1):\n",
    "        s = s+i\n",
    "    return s\n",
    "\n",
    "\n",
    "num = int(input(\"Enter the number upto which you find sum : \"))\n",
    "print(\"The sum is\" , natural_sum(10))"
   ]
  }
 ],
 "metadata": {
  "kernelspec": {
   "display_name": "Python 3 (ipykernel)",
   "language": "python",
   "name": "python3"
  },
  "language_info": {
   "codemirror_mode": {
    "name": "ipython",
    "version": 3
   },
   "file_extension": ".py",
   "mimetype": "text/x-python",
   "name": "python",
   "nbconvert_exporter": "python",
   "pygments_lexer": "ipython3",
   "version": "3.9.7"
  }
 },
 "nbformat": 4,
 "nbformat_minor": 5
}
