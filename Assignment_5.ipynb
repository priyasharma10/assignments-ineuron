{
 "cells": [
  {
   "cell_type": "code",
   "execution_count": null,
   "id": "ff93be8f",
   "metadata": {},
   "outputs": [],
   "source": [
    "1. What does an empty dictionary's code look like?\n",
    "Ans : d={}\n",
    "2. What is the value of a dictionary value with the key 'foo' and the value 42?\n",
    "ANs: d={'foo':42}\n",
    "     d.values() will give dict_values([42])\n",
    "\n",
    "3. What is the most significant distinction between a dictionary and a list?\n",
    "Ans: list don't have key value pair, dictionaries have key value pair.\n",
    "\n",
    "4. What happens if you try to access spam['foo'] if spam is {'bar': 100}?\n",
    "Ans: It gives key error. \n",
    "    \n",
    "5. If a dictionary is stored in spam, what is the difference between the expressions 'cat' in spam and 'cat' in spam.keys()?\n",
    "Ans: There is no difference. Both will check for 'cat' key in dictionary. And return True if present.\n",
    "\n",
    "6. If a dictionary is stored in spam, what is the difference between the expressions 'cat' in spam and 'cat' in spam.values()?\n",
    "Ans: 'cat' in spam will look for 'cat' key in dictionary.\n",
    "    While 'cat' in spam.values() will look for 'cat' in values present in dictionary.\n",
    "    \n",
    "7. What is a shortcut for the following code?\n",
    "if 'color' not in spam:\n",
    "spam['color'] = 'black'\n",
    "\n",
    "Ans: spam.setdefault('color', 'black')\n",
    "\n",
    "8. How do you \"pretty print\" dictionary values using which module and function?\n",
    "Ans: pprint.pprint()\n"
   ]
  }
 ],
 "metadata": {
  "kernelspec": {
   "display_name": "Python 3 (ipykernel)",
   "language": "python",
   "name": "python3"
  },
  "language_info": {
   "codemirror_mode": {
    "name": "ipython",
    "version": 3
   },
   "file_extension": ".py",
   "mimetype": "text/x-python",
   "name": "python",
   "nbconvert_exporter": "python",
   "pygments_lexer": "ipython3",
   "version": "3.9.7"
  }
 },
 "nbformat": 4,
 "nbformat_minor": 5
}
