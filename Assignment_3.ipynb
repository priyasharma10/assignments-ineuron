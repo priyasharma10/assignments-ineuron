{
 "cells": [
  {
   "cell_type": "code",
   "execution_count": null,
   "id": "ebcb66a0",
   "metadata": {},
   "outputs": [],
   "source": [
    "1. Why are functions advantageous to have in your programs?\n",
    "Ans: Functions make programs more readable and provide modularity and reusability.\n",
    "    \n",
    "2. When does the code in a function run: when it's specified or when it's called?\n",
    "Ans: Code in function run when it is called.\n",
    "    \n",
    "3. What statement creates a function?\n",
    "Ans: def function_name(arguments):\n",
    "        \n",
    "4. What is the difference between a function and a function call?\n",
    "Ans: function is function definition , that starts with def keyword and it may or may not have arguements.\n",
    "    Function call is the the statement in code where we pass values in arguements and execute the function.\n",
    "\n",
    "5. How many global scopes are there in a Python program? How many local scopes?\n",
    "Ans: There is one global scope. And whenever any function is defined , it creates a local scope.\n",
    "    \n",
    "6. What happens to variables in a local scope when the function call returns?\n",
    "Ans:They are destroyed\n",
    "    \n",
    "7. What is the concept of a return value? Is it possible to have a return value in an expression?\n",
    "Ans: Return value basically returns the output after the function did its operation or whatever is defined as return value. \n",
    "Yes we can use a return value in an expression as it has it's defined type.\n",
    "\n",
    "8. If a function does not have a return statement, what is the return value of a call to that function?\n",
    "Ans: NoneType\n",
    "9. How do you make a function variable refer to the global variable?\n",
    "Ans: If we define a variable outside function scope, it will be global variable. \n",
    "    We've it just call it, it will refer to global variable\n",
    "    \n",
    "10. What is the data type of None?\n",
    "Ans: NoneType\n",
    "    \n",
    "11. What does the sentence import areallyourpetsnamederic do?\n",
    "Ans: A module named areallyourpetsnamederic is imported\n",
    "    \n",
    "12. If you had a bacon() feature in a spam module, what would you call it after importing spam?\n",
    "Ans: spam.bacon()\n",
    "    \n",
    "13. What can you do to save a programme from crashing if it encounters an error?\n",
    "Ans: use try and except block statements\n",
    "    \n",
    "14. What is the purpose of the try clause? What is the purpose of the except clause?\n",
    "Ans: Try clause is used to deal with any possible error that our program can encounter.It has code written in it for same.\n",
    "    Except block has code, which will be executed if an error according to try block is occured.\n"
   ]
  },
  {
   "cell_type": "code",
   "execution_count": null,
   "id": "13b5124c",
   "metadata": {},
   "outputs": [],
   "source": []
  }
 ],
 "metadata": {
  "kernelspec": {
   "display_name": "Python 3 (ipykernel)",
   "language": "python",
   "name": "python3"
  },
  "language_info": {
   "codemirror_mode": {
    "name": "ipython",
    "version": 3
   },
   "file_extension": ".py",
   "mimetype": "text/x-python",
   "name": "python",
   "nbconvert_exporter": "python",
   "pygments_lexer": "ipython3",
   "version": "3.9.7"
  }
 },
 "nbformat": 4,
 "nbformat_minor": 5
}
