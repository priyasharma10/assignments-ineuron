{
 "cells": [
  {
   "cell_type": "code",
   "execution_count": 14,
   "id": "9b3c23f9",
   "metadata": {},
   "outputs": [
    {
     "name": "stdout",
     "output_type": "stream",
     "text": [
      "Enter distance in KMS : 45\n",
      "The distance in miles is :  48.4635138\n"
     ]
    }
   ],
   "source": [
    "#1. Write a Python program to convert kilometers to miles?\n",
    "#1 km = 0.6213271 miles\n",
    "i = 0.6213271\n",
    "def km_to_mile(km):\n",
    "    mile = km*i\n",
    "    return(mile)\n",
    "km = int(input(\"Enter distance in KMS : \"))\n",
    "print('The distance in miles is : ',km_to_mile(78))"
   ]
  },
  {
   "cell_type": "code",
   "execution_count": 13,
   "id": "168ff4cb",
   "metadata": {},
   "outputs": [
    {
     "name": "stdout",
     "output_type": "stream",
     "text": [
      "Enter temperarture in Celcius : 45\n",
      "Temperature in F is :  113.0\n"
     ]
    }
   ],
   "source": [
    "#2. Write a Python program to convert Celsius to Fahrenheit?\n",
    "#(0°C × 9/5) + 32 = 32°F\n",
    "def celc_to_F(temp):\n",
    "    f = temp*(9/5)+32\n",
    "    return f\n",
    "    \n",
    "temp = int(input(\"Enter temperarture in Celcius : \"))   \n",
    "print('Temperature in F is : ',celc_to_F(temp))"
   ]
  },
  {
   "cell_type": "code",
   "execution_count": 11,
   "id": "8cc5c266",
   "metadata": {},
   "outputs": [
    {
     "name": "stdout",
     "output_type": "stream",
     "text": [
      "Enter year : 2005\n",
      "Enter month : 03\n",
      "     March 2005\n",
      "Mo Tu We Th Fr Sa Su\n",
      "    1  2  3  4  5  6\n",
      " 7  8  9 10 11 12 13\n",
      "14 15 16 17 18 19 20\n",
      "21 22 23 24 25 26 27\n",
      "28 29 30 31\n",
      "\n"
     ]
    }
   ],
   "source": [
    "#3. Write a Python program to display calendar?\n",
    "\n",
    "import calendar\n",
    "year = int(input(\"Enter year : \"))\n",
    "month = int(input('Enter month : '))\n",
    "\n",
    "print(calendar.month(year,month))"
   ]
  },
  {
   "cell_type": "code",
   "execution_count": 19,
   "id": "3f411bea",
   "metadata": {},
   "outputs": [
    {
     "name": "stdout",
     "output_type": "stream",
     "text": [
      "Enter the a:1\n",
      "Enter the b:4\n",
      "Enter the c:2\n",
      "Eqn is 1 x^2 + 4 x + 2\n",
      "The roots of equation will be :  (0.0, -4.0)\n"
     ]
    }
   ],
   "source": [
    "#4. Write a Python program to solve quadratic equation?\n",
    "#let quadratic quation be - ax^2+bx+c = 0\n",
    "def quad_eqn(a,b,c):\n",
    "    D = (b**2-4*a*c)\n",
    "    root1 = (-b+D*0.5)/(2*a)\n",
    "    root2 =  (-b-D*0.5)/(2*a)\n",
    "    \n",
    "    return root1,root2\n",
    "\n",
    "\n",
    "a = int(input(\"Enter the a:\"))\n",
    "b = int(input(\"Enter the b:\"))\n",
    "c = int(input(\"Enter the c:\"))\n",
    "print('Eqn is',a,'x^2 +',b,'x','+',c)\n",
    "print(\"The roots of equation will be : \" , quad_eqn(a,b,c))"
   ]
  },
  {
   "cell_type": "code",
   "execution_count": 20,
   "id": "4c0e2a4e",
   "metadata": {},
   "outputs": [
    {
     "data": {
      "text/plain": [
       "(5, 3)"
      ]
     },
     "execution_count": 20,
     "metadata": {},
     "output_type": "execute_result"
    }
   ],
   "source": [
    "#5. Write a Python program to swap two variables without temp variable?\n",
    "\n",
    "def swap(a,b):\n",
    "    a,b = b,a\n",
    "    \n",
    "    return (a,b)\n",
    "\n",
    "\n",
    "swap(3,5)"
   ]
  }
 ],
 "metadata": {
  "kernelspec": {
   "display_name": "Python 3 (ipykernel)",
   "language": "python",
   "name": "python3"
  },
  "language_info": {
   "codemirror_mode": {
    "name": "ipython",
    "version": 3
   },
   "file_extension": ".py",
   "mimetype": "text/x-python",
   "name": "python",
   "nbconvert_exporter": "python",
   "pygments_lexer": "ipython3",
   "version": "3.9.7"
  }
 },
 "nbformat": 4,
 "nbformat_minor": 5
}
