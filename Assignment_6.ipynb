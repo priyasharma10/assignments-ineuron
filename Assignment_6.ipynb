{
 "cells": [
  {
   "cell_type": "code",
   "execution_count": 1,
   "id": "36d0fef6",
   "metadata": {},
   "outputs": [],
   "source": [
    "1. What are escape characters, and how do you use them?\n",
    "Ans: There are some characters in python which when used with a backslash during print , perform different task.\n",
    "    Eg. \\n for new line, \\t for tab.\n",
    "    \n",
    "2. What do the escape characters n and t stand for?\n",
    "Ans: \\n for new line , \\t for tab\n",
    "    \n",
    "3. What is the way to include backslash characters in a string?\n",
    "Ans: If we want to use backslash character as a part of string, we need to use another backslash character before it. \n",
    "    \n",
    "4. The string \"Howl's Moving Castle\" is a correct value. Why isn't the single quote character in the word Howl's not escaped a problem?\n",
    "Ans: Because we've used \"\" double quotes as start and end for string, thus it is not a problem here.\n",
    "    \n",
    "5. How do you write a string of newlines if you don't want to use the n character?\n",
    "Ans: We can use multiple print functions.\n",
    "    \n",
    "    "
   ]
  },
  {
   "cell_type": "code",
   "execution_count": 5,
   "id": "67f31167",
   "metadata": {
    "collapsed": true
   },
   "outputs": [
    {
     "data": {
      "text/plain": [
       "'sdvsdx'"
      ]
     },
     "execution_count": 5,
     "metadata": {},
     "output_type": "execute_result"
    }
   ],
   "source": [
    "6. What are the values of the given expressions?\n",
    "'Hello, world!'[1] - 'e'\n",
    "'Hello, world!'[0:5] - 'Hello'\n",
    "'Hello, world!'[:5] - 'Hello'\n",
    "'Hello, world!'[3:] - 'lo, world!'\n",
    "\n",
    "7. What are the values of the following expressions?\n",
    "'Hello'.upper() - 'HELLO'\n",
    "'Hello'.upper().isupper() - 'True'\n",
    "'Hello'.upper().lower() - 'hello'\n",
    "\n",
    "8. What are the values of the following expressions?\n",
    "'Remember, remember, the fifth of July.'.split() - ['Remember,', 'remember,', 'the', 'fifth', 'of', 'July.']\n",
    "'-'.join('There can only one.'.split()) - 'There-can-only-one.'\n",
    "Ans: \n",
    "    \n",
    "9. What are the methods for right-justifying, left-justifying, and centering a string?\n",
    "Ans:  rjust(), ljust(), and center() \n",
    "10. What is the best way to remove whitespace characters from the start or end?\n",
    "Ans: strip() - from both start and end\n",
    "    lstrip() - from left\n",
    "    rstrip() - from right\n"
   ]
  },
  {
   "cell_type": "code",
   "execution_count": null,
   "id": "8f5fec50",
   "metadata": {},
   "outputs": [],
   "source": []
  },
  {
   "cell_type": "code",
   "execution_count": null,
   "id": "702d8540",
   "metadata": {},
   "outputs": [],
   "source": []
  }
 ],
 "metadata": {
  "kernelspec": {
   "display_name": "Python 3 (ipykernel)",
   "language": "python",
   "name": "python3"
  },
  "language_info": {
   "codemirror_mode": {
    "name": "ipython",
    "version": 3
   },
   "file_extension": ".py",
   "mimetype": "text/x-python",
   "name": "python",
   "nbconvert_exporter": "python",
   "pygments_lexer": "ipython3",
   "version": "3.9.7"
  }
 },
 "nbformat": 4,
 "nbformat_minor": 5
}
