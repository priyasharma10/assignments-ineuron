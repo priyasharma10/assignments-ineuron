{
 "cells": [
  {
   "cell_type": "code",
   "execution_count": null,
   "id": "7f5ebea8",
   "metadata": {},
   "outputs": [],
   "source": [
    "1. In the below elements which of them are values or an expression? eg:- values can be integer or string and expressions will be mathematical operators.\n",
    "*   expression\n",
    "'hello'  value (string)\n",
    "-87.8  value ( float)\n",
    "- expression\n",
    "/  expression\n",
    "+ expression \n",
    "6 value ( integer)\n",
    "\n",
    "2. What is the difference between string and variable?\n",
    "Ans: Variables are created to hold/store the data , so that later we can process it. Whereas String is type of data, which can be an English word or sentence. While assigning it to a variable we have to keep it in ‘’ or “”.\n",
    "3. Describe three different data types.\n",
    "Ans: Integer , Float , String\n",
    "\n",
    "4. What is an expression made up of? What do all expressions do?\n",
    "Ans : An expression is made up of values ( integer/float/string) and mathematical operators. Expressions are used to produce some value as a result.\n",
    "5. This assignment statements, like spam = 10. What is the difference between an expression and a statement?\n",
    "Ans: Assignment Statements are used to assign/store data/value in a variable. Here , spam is a variable and we are assigning 10 (a value) to it. Later on ,we can use this variable to perform some operations.\n",
    "An expression is different from assignment as we are not storing it to some other variable, it is equivalent to a mathematical expression.\n",
    "6. After running the following code, what does the variable bacon contain?\n",
    "bacon = 22\n",
    "bacon + 1\n",
    "Ans : 23\n",
    "7. What should the values of the following two terms be?\n",
    "'spam' + 'spamspam' \n",
    " Ans -  'spamspamspam'\n",
    "\n",
    "'spam' * 3\n",
    " Ans -  'spamspamspam'\n",
    "\n",
    "8. Why is eggs a valid variable name while 100 is invalid?\n",
    "Ans : Because in python a variable name must start with a letter or the underscore character. It can’t start with a number.\n",
    "9. What three functions can be used to get the integer, floating-point number, or string version of a value?\n",
    "Ans:\n",
    "10. Why does this expression cause an error? How can you fix it?\n",
    "'I have eaten ' + 99 + ' burritos.'\n",
    "Ans: 1st and 3rd are strings, middle one is integer. Thus it causes an error. We can fix it by making 99 as string – ‘99’\n",
    "\n",
    "\n"
   ]
  }
 ],
 "metadata": {
  "kernelspec": {
   "display_name": "Python 3 (ipykernel)",
   "language": "python",
   "name": "python3"
  },
  "language_info": {
   "codemirror_mode": {
    "name": "ipython",
    "version": 3
   },
   "file_extension": ".py",
   "mimetype": "text/x-python",
   "name": "python",
   "nbconvert_exporter": "python",
   "pygments_lexer": "ipython3",
   "version": "3.9.7"
  }
 },
 "nbformat": 4,
 "nbformat_minor": 5
}
